{
 "cells": [
  {
   "cell_type": "code",
   "execution_count": 7,
   "metadata": {},
   "outputs": [],
   "source": [
    "import glob, os\n",
    "import pandas as pd"
   ]
  },
  {
   "cell_type": "code",
   "execution_count": 13,
   "metadata": {},
   "outputs": [
    {
     "name": "stdout",
     "output_type": "stream",
     "text": [
      "/Users/melvinwevers/source/ah_xml\r\n"
     ]
    }
   ],
   "source": [
    "!cd ../../Dropbox/datasets/allerhand"
   ]
  },
  {
   "cell_type": "code",
   "execution_count": 21,
   "metadata": {
    "scrolled": true
   },
   "outputs": [],
   "source": [
    "allFiles = glob.glob('../../Dropbox/datasets/Allerhande_1954-1973/allerhande_processed/data/**/*.txt', recursive=True)\n",
    "data = pd.DataFrame()\n",
    "list_ = []\n",
    "for file_ in allFiles:\n",
    "    df = pd.read_csv(file_, index_col=None, header=None)\n",
    "    df['filename'] = os.path.basename(file_)\n",
    "    list_.append(df)\n",
    "data = pd.concat(list_)"
   ]
  },
  {
   "cell_type": "code",
   "execution_count": 22,
   "metadata": {},
   "outputs": [],
   "source": [
    "data['year'] = data['filename'].str[:4]\n",
    "data['month'] = data['filename'].str[5:7]\n",
    "data['article'] = data['filename'].str[8:-4]\n",
    "data.columns.values[0] = 'text'\n",
    "data = data.drop_duplicates('text', keep='first')\n",
    "data['text_clean'] = data['text'].str.replace('¬\\n', '')\n",
    "data['text_clean'] = data['text_clean'].str.replace('\\n', ' ')\n",
    "#remove short articles less than 10 characters / words\n",
    "#data[data['text_clean'].str.len() > 10]\n",
    "data = data[data['text_clean'].str.count(' ') > 10]\n",
    "data = data.sort_values(by=['year', 'month'])\n",
    "data['text_clean'] = data['text_clean'].str.strip()\n",
    "data = data.drop('text', axis=1)\n",
    "data = data.reset_index()"
   ]
  },
  {
   "cell_type": "code",
   "execution_count": 19,
   "metadata": {},
   "outputs": [
    {
     "data": {
      "text/html": [
       "<div>\n",
       "<style>\n",
       "    .dataframe thead tr:only-child th {\n",
       "        text-align: right;\n",
       "    }\n",
       "\n",
       "    .dataframe thead th {\n",
       "        text-align: left;\n",
       "    }\n",
       "\n",
       "    .dataframe tbody tr th {\n",
       "        vertical-align: top;\n",
       "    }\n",
       "</style>\n",
       "<table border=\"1\" class=\"dataframe\">\n",
       "  <thead>\n",
       "    <tr style=\"text-align: right;\">\n",
       "      <th></th>\n",
       "      <th>filename</th>\n",
       "      <th>year</th>\n",
       "      <th>month</th>\n",
       "      <th>article</th>\n",
       "      <th>text_clean</th>\n",
       "    </tr>\n",
       "  </thead>\n",
       "  <tbody>\n",
       "    <tr>\n",
       "      <th>4</th>\n",
       "      <td>1954-12_11.txt</td>\n",
       "      <td>1954</td>\n",
       "      <td>12</td>\n",
       "      <td>11</td>\n",
       "      <td>Glas voor port, Fliite voor sherry, vermoutb c...</td>\n",
       "    </tr>\n",
       "    <tr>\n",
       "      <th>6</th>\n",
       "      <td>1954-12_11.txt</td>\n",
       "      <td>1954</td>\n",
       "      <td>12</td>\n",
       "      <td>11</td>\n",
       "      <td>l-Tiets is zozeer geschikt om tot de stemming ...</td>\n",
       "    </tr>\n",
       "    <tr>\n",
       "      <th>7</th>\n",
       "      <td>1954-12_11.txt</td>\n",
       "      <td>1954</td>\n",
       "      <td>12</td>\n",
       "      <td>11</td>\n",
       "      <td>dat in het bijzonder bij rode wijn nogal eens ...</td>\n",
       "    </tr>\n",
       "    <tr>\n",
       "      <th>12</th>\n",
       "      <td>1954-12_11.txt</td>\n",
       "      <td>1954</td>\n",
       "      <td>12</td>\n",
       "      <td>11</td>\n",
       "      <td>Portugese Sardines in olie...... p. blik 38- 5...</td>\n",
       "    </tr>\n",
       "    <tr>\n",
       "      <th>16</th>\n",
       "      <td>1954-12_11.txt</td>\n",
       "      <td>1954</td>\n",
       "      <td>12</td>\n",
       "      <td>11</td>\n",
       "      <td>PORT Cockburn's Port (red &amp; white) Conqueror P...</td>\n",
       "    </tr>\n",
       "  </tbody>\n",
       "</table>\n",
       "</div>"
      ],
      "text/plain": [
       "          filename  year month article  \\\n",
       "4   1954-12_11.txt  1954    12      11   \n",
       "6   1954-12_11.txt  1954    12      11   \n",
       "7   1954-12_11.txt  1954    12      11   \n",
       "12  1954-12_11.txt  1954    12      11   \n",
       "16  1954-12_11.txt  1954    12      11   \n",
       "\n",
       "                                           text_clean  \n",
       "4   Glas voor port, Fliite voor sherry, vermoutb c...  \n",
       "6   l-Tiets is zozeer geschikt om tot de stemming ...  \n",
       "7   dat in het bijzonder bij rode wijn nogal eens ...  \n",
       "12  Portugese Sardines in olie...... p. blik 38- 5...  \n",
       "16  PORT Cockburn's Port (red & white) Conqueror P...  "
      ]
     },
     "execution_count": 19,
     "metadata": {},
     "output_type": "execute_result"
    }
   ],
   "source": [
    "data.head(5)"
   ]
  },
  {
   "cell_type": "code",
   "execution_count": 23,
   "metadata": {},
   "outputs": [],
   "source": [
    "#get id for text (second part) that start with a lowercase character this is due to an incorrect separation or ocr\n",
    "#and id for text part before that part, probably the first part of the split article (first part)\n",
    "\n",
    "first_part = data[data['text_clean'].str.split().str.get(0).apply(lambda x: x.islower())].index - 1\n",
    "second_part = data[data['text_clean'].str.split().str.get(0).apply(lambda x: x.islower())].index"
   ]
  },
  {
   "cell_type": "code",
   "execution_count": 26,
   "metadata": {},
   "outputs": [
    {
     "data": {
      "text/plain": [
       "Int64Index([    2,    25,    27,    30,    31,    32,    34,    36,    50,\n",
       "               52,\n",
       "            ...\n",
       "            36222, 36225, 36227, 36229, 36231, 36234, 36236, 36237, 36239,\n",
       "            36241],\n",
       "           dtype='int64', length=9630)"
      ]
     },
     "execution_count": 26,
     "metadata": {},
     "output_type": "execute_result"
    }
   ],
   "source": [
    "data[data['text_clean'].str.split().str.get(0).apply(lambda x: x.islower())].index"
   ]
  },
  {
   "cell_type": "code",
   "execution_count": 27,
   "metadata": {},
   "outputs": [],
   "source": [
    "#combine these two text parts\n",
    "text = []\n",
    "for index, row in data.iterrows():\n",
    "    if index in second_part:\n",
    "        index_2 = index - 1\n",
    "        text.append(data.iloc[index_2]['text_clean'] + data.iloc[index]['text_clean'])"
   ]
  },
  {
   "cell_type": "code",
   "execution_count": 29,
   "metadata": {},
   "outputs": [
    {
     "name": "stderr",
     "output_type": "stream",
     "text": [
      "/Users/melvinwevers/anaconda3/lib/python3.6/site-packages/ipykernel_launcher.py:1: DeprecationWarning: \n",
      ".ix is deprecated. Please use\n",
      ".loc for label based indexing or\n",
      ".iloc for positional indexing\n",
      "\n",
      "See the documentation here:\n",
      "http://pandas.pydata.org/pandas-docs/stable/indexing.html#ix-indexer-is-deprecated\n",
      "  \"\"\"Entry point for launching an IPython kernel.\n"
     ]
    }
   ],
   "source": [
    "#replace existing text with joined articles. \n",
    "data2 = data.ix[first_part] \n",
    "data2 = data2.drop('text_clean', axis=1)\n",
    "data2['text_clean'] = text"
   ]
  },
  {
   "cell_type": "code",
   "execution_count": 32,
   "metadata": {},
   "outputs": [],
   "source": [
    "#remove split articles from data\n",
    "data = data[~data.index.isin(first_part)]\n",
    "data = data[~data.index.isin(second_part)]"
   ]
  },
  {
   "cell_type": "code",
   "execution_count": 33,
   "metadata": {},
   "outputs": [],
   "source": [
    "data3 = pd.concat([data, data2])\n",
    "data3 = data3.reset_index()"
   ]
  },
  {
   "cell_type": "code",
   "execution_count": 13,
   "metadata": {
    "collapsed": true
   },
   "outputs": [],
   "source": [
    "#repeat same tricks for articles with an enter\n",
    "first_part2 = data3[data3['text_clean'].str.endswith('¬')].index\n",
    "second_part2 = data3[data3['text_clean'].str.endswith('¬')].index + 1"
   ]
  },
  {
   "cell_type": "code",
   "execution_count": 14,
   "metadata": {
    "collapsed": true
   },
   "outputs": [],
   "source": [
    "text2 = []\n",
    "for index, row in data3.iterrows():\n",
    "    if index in first_part2:\n",
    "        index_2 = index + 1\n",
    "        text2.append(data3.iloc[index]['text_clean'] + data3.iloc[index_2]['text_clean'])"
   ]
  },
  {
   "cell_type": "code",
   "execution_count": 15,
   "metadata": {},
   "outputs": [
    {
     "name": "stderr",
     "output_type": "stream",
     "text": [
      "/Users/melvinwevers/anaconda3/lib/python3.6/site-packages/ipykernel_launcher.py:1: DeprecationWarning: \n",
      ".ix is deprecated. Please use\n",
      ".loc for label based indexing or\n",
      ".iloc for positional indexing\n",
      "\n",
      "See the documentation here:\n",
      "http://pandas.pydata.org/pandas-docs/stable/indexing.html#ix-indexer-is-deprecated\n",
      "  \"\"\"Entry point for launching an IPython kernel.\n"
     ]
    }
   ],
   "source": [
    "data4 = data3.ix[first_part2]\n",
    "data4 = data4.drop('text_clean', axis=1)\n",
    "data4['text_clean'] = text2\n",
    "\n",
    "data3 = data3[~data3.index.isin(first_part2)]\n",
    "data3 = data3[~data3.index.isin(second_part2)]"
   ]
  },
  {
   "cell_type": "code",
   "execution_count": 16,
   "metadata": {
    "collapsed": true
   },
   "outputs": [],
   "source": [
    "data4 = data4.drop('level_0', axis=1)\n",
    "data3 = data3.drop('level_0', axis=1)"
   ]
  },
  {
   "cell_type": "code",
   "execution_count": 17,
   "metadata": {
    "collapsed": true
   },
   "outputs": [],
   "source": [
    "data5 = pd.concat([data3, data4])\n",
    "data5 = data5.reset_index()"
   ]
  },
  {
   "cell_type": "code",
   "execution_count": 22,
   "metadata": {
    "collapsed": true
   },
   "outputs": [],
   "source": [
    "col_drop = ['level_0', 'index']\n",
    "data_clean = data5.drop(col_drop, axis=1)"
   ]
  },
  {
   "cell_type": "code",
   "execution_count": 24,
   "metadata": {
    "collapsed": true
   },
   "outputs": [],
   "source": [
    "data_clean.to_csv(\"allerhande_clean.csv\")"
   ]
  }
 ],
 "metadata": {
  "kernelspec": {
   "display_name": "Python 3",
   "language": "python",
   "name": "python3"
  },
  "language_info": {
   "codemirror_mode": {
    "name": "ipython",
    "version": 3
   },
   "file_extension": ".py",
   "mimetype": "text/x-python",
   "name": "python",
   "nbconvert_exporter": "python",
   "pygments_lexer": "ipython3",
   "version": "3.6.2"
  }
 },
 "nbformat": 4,
 "nbformat_minor": 2
}
